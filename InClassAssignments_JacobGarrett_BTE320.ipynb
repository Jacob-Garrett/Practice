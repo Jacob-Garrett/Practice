{
  "nbformat": 4,
  "nbformat_minor": 0,
  "metadata": {
    "colab": {
      "provenance": [],
      "authorship_tag": "ABX9TyPfY9sDuTdmDd9WpTmb8Fit",
      "include_colab_link": true
    },
    "kernelspec": {
      "name": "python3",
      "display_name": "Python 3"
    },
    "language_info": {
      "name": "python"
    }
  },
  "cells": [
    {
      "cell_type": "markdown",
      "metadata": {
        "id": "view-in-github",
        "colab_type": "text"
      },
      "source": [
        "<a href=\"https://colab.research.google.com/github/Jacob-Garrett/Practice/blob/main/InClassAssignments_JacobGarrett_BTE320.ipynb\" target=\"_parent\"><img src=\"https://colab.research.google.com/assets/colab-badge.svg\" alt=\"Open In Colab\"/></a>"
      ]
    },
    {
      "cell_type": "code",
      "execution_count": 1,
      "metadata": {
        "colab": {
          "base_uri": "https://localhost:8080/"
        },
        "id": "7OkZFtzImJTn",
        "outputId": "6a015a47-4a56-4461-98d6-1c36aa17439f"
      },
      "outputs": [
        {
          "output_type": "stream",
          "name": "stdout",
          "text": [
            "Enter Sales ($)12000\n",
            "Enter Cost of Goods (%)40\n",
            "Enter tax rate (%)30\n",
            "Cost of Goods Sold: $4800.0\n",
            "Gross Profit: $7200.0\n",
            "Taxes: $2160.0\n",
            "Net Income: $5040.0\n"
          ]
        }
      ],
      "source": [
        "# Inputs: Sales ($) and cost of goods sold pct (%)\n",
        "sales = input(\"Enter Sales ($)\")\n",
        "sales = float(sales)\n",
        "\n",
        "cogs_pct = input(\"Enter Cost of Goods (%)\")\n",
        "cogs_pct = float(cogs_pct)\n",
        "\n",
        "rate = input(\"Enter tax rate (%)\")\n",
        "rate = float(rate)\n",
        "\n",
        "#Processes: calculate cogs and gross profit\n",
        "cogs = sales * (cogs_pct/100)\n",
        "grossprofit = sales - cogs\n",
        "taxes = grossprofit * rate / 100\n",
        "netincome = grossprofit - taxes\n",
        "\n",
        "#Outputs: display cost of goods sold and gross profit\n",
        "print(f\"Cost of Goods Sold: ${cogs}\")\n",
        "print(f\"Gross Profit: ${grossprofit}\")\n",
        "print(f\"Taxes: ${taxes}\")\n",
        "print(f\"Net Income: ${netincome}\")"
      ]
    }
  ]
}