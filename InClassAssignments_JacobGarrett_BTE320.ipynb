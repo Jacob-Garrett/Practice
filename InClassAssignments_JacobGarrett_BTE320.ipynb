{
  "nbformat": 4,
  "nbformat_minor": 0,
  "metadata": {
    "colab": {
      "provenance": [],
      "authorship_tag": "ABX9TyN2hWOxV3p18s8Rir7lWpyO",
      "include_colab_link": true
    },
    "kernelspec": {
      "name": "python3",
      "display_name": "Python 3"
    },
    "language_info": {
      "name": "python"
    }
  },
  "cells": [
    {
      "cell_type": "markdown",
      "metadata": {
        "id": "view-in-github",
        "colab_type": "text"
      },
      "source": [
        "<a href=\"https://colab.research.google.com/github/Jacob-Garrett/Practice/blob/main/InClassAssignments_JacobGarrett_BTE320.ipynb\" target=\"_parent\"><img src=\"https://colab.research.google.com/assets/colab-badge.svg\" alt=\"Open In Colab\"/></a>"
      ]
    },
    {
      "cell_type": "code",
      "execution_count": null,
      "metadata": {
        "colab": {
          "base_uri": "https://localhost:8080/"
        },
        "id": "7OkZFtzImJTn",
        "outputId": "6a015a47-4a56-4461-98d6-1c36aa17439f"
      },
      "outputs": [
        {
          "output_type": "stream",
          "name": "stdout",
          "text": [
            "Enter Sales ($)12000\n",
            "Enter Cost of Goods (%)40\n",
            "Enter tax rate (%)30\n",
            "Cost of Goods Sold: $4800.0\n",
            "Gross Profit: $7200.0\n",
            "Taxes: $2160.0\n",
            "Net Income: $5040.0\n"
          ]
        }
      ],
      "source": [
        "# Inputs: Sales ($) and cost of goods sold pct (%)\n",
        "sales = input(\"Enter Sales ($)\")\n",
        "sales = float(sales)\n",
        "\n",
        "cogs_pct = input(\"Enter Cost of Goods (%)\")\n",
        "cogs_pct = float(cogs_pct)\n",
        "\n",
        "rate = input(\"Enter tax rate (%)\")\n",
        "rate = float(rate)\n",
        "\n",
        "#Processes: calculate cogs and gross profit\n",
        "cogs = sales * (cogs_pct/100)\n",
        "grossprofit = sales - cogs\n",
        "taxes = grossprofit * rate / 100\n",
        "netincome = grossprofit - taxes\n",
        "\n",
        "#Outputs: display cost of goods sold and gross profit\n",
        "print(f\"Cost of Goods Sold: ${cogs}\")\n",
        "print(f\"Gross Profit: ${grossprofit}\")\n",
        "print(f\"Taxes: ${taxes}\")\n",
        "print(f\"Net Income: ${netincome}\")"
      ]
    },
    {
      "cell_type": "code",
      "source": [
        "# Inputs\n",
        "demand = int(input(\"Enter Annual Demand (units/year) \"))\n",
        "reorder = float(input(\"Enter Reorder Cost ($/order) \"))\n",
        "holding = float(input(\"Enter Holding Cost ($/unit/year) \"))\n",
        "\n",
        "# Process\n",
        "eoq = ((2 * demand * reorder) / holding) ** 0.5\n",
        "\n",
        "# Output\n",
        "print(f\"EOQ: {eoq} units\")"
      ],
      "metadata": {
        "colab": {
          "base_uri": "https://localhost:8080/"
        },
        "id": "VoAmgDzCnwQf",
        "outputId": "4f70f232-e8db-4a01-a946-eafa3d0d28a6"
      },
      "execution_count": null,
      "outputs": [
        {
          "output_type": "stream",
          "name": "stdout",
          "text": [
            "Enter Annual Demand (units/year) 1000\n",
            "Enter Reorder Cost ($/order) 50\n",
            "Enter Holding Cost ($/unit/year) 10\n",
            "EOQ: 100.0 units\n"
          ]
        }
      ]
    },
    {
      "cell_type": "code",
      "source": [
        "# Inputs\n",
        "number1 = float(input(\"Enter first number: \"))\n",
        "operator = input(\"Enter operator (+, -, *, /, //, %, **): \")\n",
        "number2 = float(input(\"Enter second number: \"))\n",
        "\n",
        "# Process\n",
        "if operator == \"+\":\n",
        "  result = number1 + number2\n",
        "elif operator == \"-\":\n",
        "  result = number1 - number2\n",
        "elif operator == \"*\":\n",
        "  result = number1 * number2\n",
        "elif operator == \"/\":\n",
        "  if number2 == 0:\n",
        "    result = \"Cannot divide by zero\"\n",
        "  else:\n",
        "    result = number1 / number2\n",
        "elif operator == \"//\":\n",
        "  if number2 == 0:\n",
        "    result = \"Cannot divide by zero\"\n",
        "  else:\n",
        "    result = number1 // number2\n",
        "elif operator == \"%\":\n",
        "  if number2 == 0:\n",
        "    result = \"Cannot divide by zero\"\n",
        "  else:\n",
        "    result = number1 % number2\n",
        "elif operator == \"**\":\n",
        "  result = number1 ** number2\n",
        "else:\n",
        "  result = None\n",
        "  print(\"Invalid operator\")\n",
        "\n",
        "# Output\n",
        "print(f\"Result: {result}\")"
      ],
      "metadata": {
        "id": "-GMArQnAv5jJ",
        "colab": {
          "base_uri": "https://localhost:8080/"
        },
        "outputId": "a71c6f7e-fdfa-4628-ec4d-1c4211a8c6af"
      },
      "execution_count": 13,
      "outputs": [
        {
          "output_type": "stream",
          "name": "stdout",
          "text": [
            "Enter first number: 5\n",
            "Enter operator (+, -, *, /, //, %, **): $\n",
            "Enter second number: 4\n",
            "Invalid operator\n",
            "Result: None\n"
          ]
        }
      ]
    }
  ]
}