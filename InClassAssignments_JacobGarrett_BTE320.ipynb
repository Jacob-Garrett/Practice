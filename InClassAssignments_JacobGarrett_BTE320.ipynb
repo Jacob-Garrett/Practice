{
  "nbformat": 4,
  "nbformat_minor": 0,
  "metadata": {
    "colab": {
      "provenance": [],
      "authorship_tag": "ABX9TyNEi7IT7GL5N3+TD1aCM60N",
      "include_colab_link": true
    },
    "kernelspec": {
      "name": "python3",
      "display_name": "Python 3"
    },
    "language_info": {
      "name": "python"
    }
  },
  "cells": [
    {
      "cell_type": "markdown",
      "metadata": {
        "id": "view-in-github",
        "colab_type": "text"
      },
      "source": [
        "<a href=\"https://colab.research.google.com/github/Jacob-Garrett/Practice/blob/main/InClassAssignments_JacobGarrett_BTE320.ipynb\" target=\"_parent\"><img src=\"https://colab.research.google.com/assets/colab-badge.svg\" alt=\"Open In Colab\"/></a>"
      ]
    },
    {
      "cell_type": "code",
      "execution_count": null,
      "metadata": {
        "colab": {
          "base_uri": "https://localhost:8080/"
        },
        "id": "7OkZFtzImJTn",
        "outputId": "6a015a47-4a56-4461-98d6-1c36aa17439f"
      },
      "outputs": [
        {
          "output_type": "stream",
          "name": "stdout",
          "text": [
            "Enter Sales ($)12000\n",
            "Enter Cost of Goods (%)40\n",
            "Enter tax rate (%)30\n",
            "Cost of Goods Sold: $4800.0\n",
            "Gross Profit: $7200.0\n",
            "Taxes: $2160.0\n",
            "Net Income: $5040.0\n"
          ]
        }
      ],
      "source": [
        "# Inputs: Sales ($) and cost of goods sold pct (%)\n",
        "sales = input(\"Enter Sales ($)\")\n",
        "sales = float(sales)\n",
        "\n",
        "cogs_pct = input(\"Enter Cost of Goods (%)\")\n",
        "cogs_pct = float(cogs_pct)\n",
        "\n",
        "rate = input(\"Enter tax rate (%)\")\n",
        "rate = float(rate)\n",
        "\n",
        "#Processes: calculate cogs and gross profit\n",
        "cogs = sales * (cogs_pct/100)\n",
        "grossprofit = sales - cogs\n",
        "taxes = grossprofit * rate / 100\n",
        "netincome = grossprofit - taxes\n",
        "\n",
        "#Outputs: display cost of goods sold and gross profit\n",
        "print(f\"Cost of Goods Sold: ${cogs}\")\n",
        "print(f\"Gross Profit: ${grossprofit}\")\n",
        "print(f\"Taxes: ${taxes}\")\n",
        "print(f\"Net Income: ${netincome}\")"
      ]
    },
    {
      "cell_type": "code",
      "source": [
        "# Inputs\n",
        "demand = int(input(\"Enter Annual Demand (units/year) \"))\n",
        "reorder = float(input(\"Enter Reorder Cost ($/order) \"))\n",
        "holding = float(input(\"Enter Holding Cost ($/unit/year) \"))\n",
        "\n",
        "# Process\n",
        "eoq = ((2 * demand * reorder) / holding) ** 0.5\n",
        "\n",
        "# Output\n",
        "print(f\"EOQ: {eoq} units\")"
      ],
      "metadata": {
        "colab": {
          "base_uri": "https://localhost:8080/"
        },
        "id": "VoAmgDzCnwQf",
        "outputId": "4f70f232-e8db-4a01-a946-eafa3d0d28a6"
      },
      "execution_count": null,
      "outputs": [
        {
          "output_type": "stream",
          "name": "stdout",
          "text": [
            "Enter Annual Demand (units/year) 1000\n",
            "Enter Reorder Cost ($/order) 50\n",
            "Enter Holding Cost ($/unit/year) 10\n",
            "EOQ: 100.0 units\n"
          ]
        }
      ]
    },
    {
      "cell_type": "code",
      "source": [
        "# Inputs\n",
        "number1 = float(input(\"Enter first number: \"))\n",
        "operator = input(\"Enter operator (+, -, *, /, //, %, **): \")\n",
        "number2 = float(input(\"Enter second number: \"))\n",
        "\n",
        "# Process\n",
        "if operator == \"+\":\n",
        "  result = number1 + number2\n",
        "elif operator == \"-\":\n",
        "  result = number1 - number2\n",
        "elif operator == \"*\":\n",
        "  result = number1 * number2\n",
        "elif operator == \"/\":\n",
        "  if number2 == 0:\n",
        "    result = \"Cannot divide by zero\"\n",
        "  else:\n",
        "    result = number1 / number2\n",
        "elif operator == \"//\":\n",
        "  if number2 == 0:\n",
        "    result = \"Cannot divide by zero\"\n",
        "  else:\n",
        "    result = number1 // number2\n",
        "elif operator == \"%\":\n",
        "  if number2 == 0:\n",
        "    result = \"Cannot divide by zero\"\n",
        "  else:\n",
        "    result = number1 % number2\n",
        "elif operator == \"**\":\n",
        "  result = number1 ** number2\n",
        "else:\n",
        "  result = None\n",
        "  print(\"Invalid operator\")\n",
        "\n",
        "# Output\n",
        "print(f\"Result: {result}\")"
      ],
      "metadata": {
        "id": "-GMArQnAv5jJ",
        "colab": {
          "base_uri": "https://localhost:8080/"
        },
        "outputId": "a71c6f7e-fdfa-4628-ec4d-1c4211a8c6af"
      },
      "execution_count": null,
      "outputs": [
        {
          "output_type": "stream",
          "name": "stdout",
          "text": [
            "Enter first number: 5\n",
            "Enter operator (+, -, *, /, //, %, **): $\n",
            "Enter second number: 4\n",
            "Invalid operator\n",
            "Result: None\n"
          ]
        }
      ]
    },
    {
      "cell_type": "code",
      "source": [
        "# Input\n",
        "\n",
        "for num in range (1,9,1):\n",
        "  print(num,5+2,5*num)"
      ],
      "metadata": {
        "colab": {
          "base_uri": "https://localhost:8080/"
        },
        "id": "l9xv604ovQb9",
        "outputId": "ceef3332-3084-4840-8ab2-76fc51d9b7d4"
      },
      "execution_count": null,
      "outputs": [
        {
          "output_type": "stream",
          "name": "stdout",
          "text": [
            "1 7 5\n",
            "2 7 10\n",
            "3 7 15\n",
            "4 7 20\n",
            "5 7 25\n",
            "6 7 30\n",
            "7 7 35\n",
            "8 7 40\n"
          ]
        }
      ]
    },
    {
      "cell_type": "code",
      "source": [
        "print(\"Ad ($) Profit ($)\")\n",
        "for ad in range (0,201,25):\n",
        "  revenue = (20 + 2 * ad **0.5) * 10\n",
        "  costs = 200 + ad\n",
        "  profit = revenue - costs\n",
        "  print(ad,round(profit))"
      ],
      "metadata": {
        "colab": {
          "base_uri": "https://localhost:8080/"
        },
        "id": "Amlh0I1WvbZM",
        "outputId": "0de839c7-83d0-48fa-8ae2-73ce48a883bf"
      },
      "execution_count": null,
      "outputs": [
        {
          "output_type": "stream",
          "name": "stdout",
          "text": [
            "Ad ($) Profit ($)\n",
            "0 0\n",
            "25 75\n",
            "50 91\n",
            "75 98\n",
            "100 100\n",
            "125 99\n",
            "150 95\n",
            "175 90\n",
            "200 83\n"
          ]
        }
      ]
    },
    {
      "cell_type": "code",
      "source": [
        "print(\"Enter numbers to the list, entering 0 will end the list\")\n",
        "L = []\n",
        "while True:\n",
        "  i = float(input())\n",
        "  if i == 0:\n",
        "    break\n",
        "  L.append(i)\n",
        "L.sort(reverse=True)\n",
        "print(L)"
      ],
      "metadata": {
        "colab": {
          "base_uri": "https://localhost:8080/"
        },
        "id": "HEP5cHTfNRkL",
        "outputId": "bb09b84c-83bf-4c1c-8ee4-a522167b2463"
      },
      "execution_count": null,
      "outputs": [
        {
          "metadata": {
            "tags": null
          },
          "name": "stdout",
          "output_type": "stream",
          "text": [
            "Enter numbers to the list, entering 0 will end the list\n"
          ]
        }
      ]
    },
    {
      "cell_type": "code",
      "source": [
        "import random\n",
        "\n",
        "print(\"Welcome to Rock, Paper, Scissors!\")\n",
        "\n",
        "while True:\n",
        "    # Ask if the user wants to play\n",
        "    play = input(\"Do you want to play? (yes/no): \").strip().lower()\n",
        "    if play != \"yes\":\n",
        "        print(\"Thanks for playing! Goodbye.\")\n",
        "        break\n",
        "\n",
        "    # User choice\n",
        "    user = input(\"Choose rock, paper, or scissors: \").strip().lower()\n",
        "\n",
        "    # Validate input\n",
        "    if user not in [\"rock\", \"paper\", \"scissors\"]:\n",
        "        print(\"Invalid choice. Please type rock, paper, or scissors.\")\n",
        "        continue\n",
        "\n",
        "    # Computer choice\n",
        "    computer = random.choice([\"rock\", \"paper\", \"scissors\"])\n",
        "    print(f\"Computer chose: {computer}\")\n",
        "\n",
        "    # Determine winner\n",
        "    if user == computer:\n",
        "        print(\"It's a tie!\")\n",
        "    elif (\n",
        "        (user == \"rock\" and computer == \"scissors\") or\n",
        "         (user == \"paper\" and computer == \"rock\") or\n",
        "         (user == \"scissors\" and computer == \"paper\")\n",
        "    ):\n",
        "      print(\"User Wins!\")\n",
        "    else:\n",
        "        print(\"Computer wins!\")\n",
        "\n",
        "    print(\"-\" * 30)"
      ],
      "metadata": {
        "colab": {
          "base_uri": "https://localhost:8080/"
        },
        "id": "ONAwdgMm9Mzn",
        "outputId": "00178c51-f1cf-47a3-a575-20018c2be1a4"
      },
      "execution_count": null,
      "outputs": [
        {
          "output_type": "stream",
          "name": "stdout",
          "text": [
            "Welcome to Rock, Paper, Scissors!\n",
            "Do you want to play? (yes/no): yes\n",
            "Choose rock, paper, or scissors: rock\n",
            "Computer chose: rock\n",
            "It's a tie!\n",
            "------------------------------\n",
            "Do you want to play? (yes/no): yes\n",
            "Choose rock, paper, or scissors: rock\n",
            "Computer chose: rock\n",
            "It's a tie!\n",
            "------------------------------\n",
            "Do you want to play? (yes/no): yes\n",
            "Choose rock, paper, or scissors: rock\n",
            "Computer chose: paper\n",
            "Computer wins!\n",
            "------------------------------\n"
          ]
        }
      ]
    }
  ]
}